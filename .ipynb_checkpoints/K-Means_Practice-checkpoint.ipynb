{
 "cells": [
  {
   "cell_type": "code",
   "execution_count": 3,
   "id": "9214955f-3176-41fc-b84d-45e8a87eb31a",
   "metadata": {},
   "outputs": [],
   "source": [
    "import os\n",
    "import pandas as pd\n",
    "import numpy as np\n",
    "import matplotlib.pyplot as plt\n",
    "import seaborn as sns\n",
    "import warnings\n",
    "warnings.filterwarnings(\"ignore\")"
   ]
  },
  {
   "cell_type": "code",
   "execution_count": 85,
   "id": "e405c680-f530-4d09-bc10-383f0de98552",
   "metadata": {},
   "outputs": [],
   "source": [
    "mydata = pd.read_csv('Mall_Customers.csv')"
   ]
  },
  {
   "cell_type": "code",
   "execution_count": 86,
   "id": "c4b9c58e-14e3-4b39-97ce-c8ec199d7e31",
   "metadata": {},
   "outputs": [
    {
     "data": {
      "text/html": [
       "<div>\n",
       "<style scoped>\n",
       "    .dataframe tbody tr th:only-of-type {\n",
       "        vertical-align: middle;\n",
       "    }\n",
       "\n",
       "    .dataframe tbody tr th {\n",
       "        vertical-align: top;\n",
       "    }\n",
       "\n",
       "    .dataframe thead th {\n",
       "        text-align: right;\n",
       "    }\n",
       "</style>\n",
       "<table border=\"1\" class=\"dataframe\">\n",
       "  <thead>\n",
       "    <tr style=\"text-align: right;\">\n",
       "      <th></th>\n",
       "      <th>CustomerID</th>\n",
       "      <th>Gender</th>\n",
       "      <th>Age</th>\n",
       "      <th>Annual Income (k$)</th>\n",
       "      <th>Spending Score (1-100)</th>\n",
       "    </tr>\n",
       "  </thead>\n",
       "  <tbody>\n",
       "    <tr>\n",
       "      <th>0</th>\n",
       "      <td>1</td>\n",
       "      <td>Male</td>\n",
       "      <td>19</td>\n",
       "      <td>15</td>\n",
       "      <td>39</td>\n",
       "    </tr>\n",
       "    <tr>\n",
       "      <th>1</th>\n",
       "      <td>2</td>\n",
       "      <td>Male</td>\n",
       "      <td>21</td>\n",
       "      <td>15</td>\n",
       "      <td>81</td>\n",
       "    </tr>\n",
       "    <tr>\n",
       "      <th>2</th>\n",
       "      <td>3</td>\n",
       "      <td>Female</td>\n",
       "      <td>20</td>\n",
       "      <td>16</td>\n",
       "      <td>6</td>\n",
       "    </tr>\n",
       "    <tr>\n",
       "      <th>3</th>\n",
       "      <td>4</td>\n",
       "      <td>Female</td>\n",
       "      <td>23</td>\n",
       "      <td>16</td>\n",
       "      <td>77</td>\n",
       "    </tr>\n",
       "    <tr>\n",
       "      <th>4</th>\n",
       "      <td>5</td>\n",
       "      <td>Female</td>\n",
       "      <td>31</td>\n",
       "      <td>17</td>\n",
       "      <td>40</td>\n",
       "    </tr>\n",
       "  </tbody>\n",
       "</table>\n",
       "</div>"
      ],
      "text/plain": [
       "   CustomerID  Gender  Age  Annual Income (k$)  Spending Score (1-100)\n",
       "0           1    Male   19                  15                      39\n",
       "1           2    Male   21                  15                      81\n",
       "2           3  Female   20                  16                       6\n",
       "3           4  Female   23                  16                      77\n",
       "4           5  Female   31                  17                      40"
      ]
     },
     "execution_count": 86,
     "metadata": {},
     "output_type": "execute_result"
    }
   ],
   "source": [
    "mydata.head()"
   ]
  },
  {
   "cell_type": "code",
   "execution_count": 87,
   "id": "cc2ed082-ec79-4665-b022-ecee31e292ea",
   "metadata": {},
   "outputs": [
    {
     "data": {
      "text/plain": [
       "CustomerID                0\n",
       "Gender                    0\n",
       "Age                       0\n",
       "Annual Income (k$)        0\n",
       "Spending Score (1-100)    0\n",
       "dtype: int64"
      ]
     },
     "execution_count": 87,
     "metadata": {},
     "output_type": "execute_result"
    }
   ],
   "source": [
    "mydata.isnull().sum()"
   ]
  },
  {
   "cell_type": "code",
   "execution_count": 88,
   "id": "97703ce7-180b-4a36-91fc-24e6c326a635",
   "metadata": {},
   "outputs": [
    {
     "data": {
      "text/plain": [
       "numpy.ndarray"
      ]
     },
     "execution_count": 88,
     "metadata": {},
     "output_type": "execute_result"
    }
   ],
   "source": [
    "x = mydata.iloc[:,3:].values\n",
    "type(x)"
   ]
  },
  {
   "cell_type": "code",
   "execution_count": 89,
   "id": "3c5778a0-7e08-4ced-b76d-bfd8475d3803",
   "metadata": {},
   "outputs": [],
   "source": [
    "from sklearn.preprocessing import StandardScaler\n",
    "sc = StandardScaler()\n",
    "x_scaled = sc.fit_transform(x)"
   ]
  },
  {
   "cell_type": "code",
   "execution_count": 90,
   "id": "a435ca22-7311-4d87-9936-001f81d3fe06",
   "metadata": {},
   "outputs": [
    {
     "data": {
      "text/plain": [
       "array([[-1.73899919, -0.43480148],\n",
       "       [-1.73899919,  1.19570407],\n",
       "       [-1.70082976, -1.71591298],\n",
       "       [-1.70082976,  1.04041783],\n",
       "       [-1.66266033, -0.39597992],\n",
       "       [-1.66266033,  1.00159627],\n",
       "       [-1.62449091, -1.71591298],\n",
       "       [-1.62449091,  1.70038436],\n",
       "       [-1.58632148, -1.83237767],\n",
       "       [-1.58632148,  0.84631002],\n",
       "       [-1.58632148, -1.4053405 ],\n",
       "       [-1.58632148,  1.89449216],\n",
       "       [-1.54815205, -1.36651894],\n",
       "       [-1.54815205,  1.04041783],\n",
       "       [-1.54815205, -1.44416206],\n",
       "       [-1.54815205,  1.11806095],\n",
       "       [-1.50998262, -0.59008772],\n",
       "       [-1.50998262,  0.61338066],\n",
       "       [-1.43364376, -0.82301709],\n",
       "       [-1.43364376,  1.8556706 ],\n",
       "       [-1.39547433, -0.59008772],\n",
       "       [-1.39547433,  0.88513158],\n",
       "       [-1.3573049 , -1.75473454],\n",
       "       [-1.3573049 ,  0.88513158],\n",
       "       [-1.24279661, -1.4053405 ],\n",
       "       [-1.24279661,  1.23452563],\n",
       "       [-1.24279661, -0.7065524 ],\n",
       "       [-1.24279661,  0.41927286],\n",
       "       [-1.20462718, -0.74537397],\n",
       "       [-1.20462718,  1.42863343],\n",
       "       [-1.16645776, -1.7935561 ],\n",
       "       [-1.16645776,  0.88513158],\n",
       "       [-1.05194947, -1.7935561 ],\n",
       "       [-1.05194947,  1.62274124],\n",
       "       [-1.05194947, -1.4053405 ],\n",
       "       [-1.05194947,  1.19570407],\n",
       "       [-1.01378004, -1.28887582],\n",
       "       [-1.01378004,  0.88513158],\n",
       "       [-0.89927175, -0.93948177],\n",
       "       [-0.89927175,  0.96277471],\n",
       "       [-0.86110232, -0.59008772],\n",
       "       [-0.86110232,  1.62274124],\n",
       "       [-0.82293289, -0.55126616],\n",
       "       [-0.82293289,  0.41927286],\n",
       "       [-0.82293289, -0.86183865],\n",
       "       [-0.82293289,  0.5745591 ],\n",
       "       [-0.78476346,  0.18634349],\n",
       "       [-0.78476346, -0.12422899],\n",
       "       [-0.78476346, -0.3183368 ],\n",
       "       [-0.78476346, -0.3183368 ],\n",
       "       [-0.70842461,  0.06987881],\n",
       "       [-0.70842461,  0.38045129],\n",
       "       [-0.67025518,  0.14752193],\n",
       "       [-0.67025518,  0.38045129],\n",
       "       [-0.67025518, -0.20187212],\n",
       "       [-0.67025518, -0.35715836],\n",
       "       [-0.63208575, -0.00776431],\n",
       "       [-0.63208575, -0.16305055],\n",
       "       [-0.55574689,  0.03105725],\n",
       "       [-0.55574689, -0.16305055],\n",
       "       [-0.55574689,  0.22516505],\n",
       "       [-0.55574689,  0.18634349],\n",
       "       [-0.51757746,  0.06987881],\n",
       "       [-0.51757746,  0.34162973],\n",
       "       [-0.47940803,  0.03105725],\n",
       "       [-0.47940803,  0.34162973],\n",
       "       [-0.47940803, -0.00776431],\n",
       "       [-0.47940803, -0.08540743],\n",
       "       [-0.47940803,  0.34162973],\n",
       "       [-0.47940803, -0.12422899],\n",
       "       [-0.4412386 ,  0.18634349],\n",
       "       [-0.4412386 , -0.3183368 ],\n",
       "       [-0.40306917, -0.04658587],\n",
       "       [-0.40306917,  0.22516505],\n",
       "       [-0.25039146, -0.12422899],\n",
       "       [-0.25039146,  0.14752193],\n",
       "       [-0.25039146,  0.10870037],\n",
       "       [-0.25039146, -0.08540743],\n",
       "       [-0.25039146,  0.06987881],\n",
       "       [-0.25039146, -0.3183368 ],\n",
       "       [-0.25039146,  0.03105725],\n",
       "       [-0.25039146,  0.18634349],\n",
       "       [-0.25039146, -0.35715836],\n",
       "       [-0.25039146, -0.24069368],\n",
       "       [-0.25039146,  0.26398661],\n",
       "       [-0.25039146, -0.16305055],\n",
       "       [-0.13588317,  0.30280817],\n",
       "       [-0.13588317,  0.18634349],\n",
       "       [-0.09771374,  0.38045129],\n",
       "       [-0.09771374, -0.16305055],\n",
       "       [-0.05954431,  0.18634349],\n",
       "       [-0.05954431, -0.35715836],\n",
       "       [-0.02137488, -0.04658587],\n",
       "       [-0.02137488, -0.39597992],\n",
       "       [-0.02137488, -0.3183368 ],\n",
       "       [-0.02137488,  0.06987881],\n",
       "       [-0.02137488, -0.12422899],\n",
       "       [-0.02137488, -0.00776431],\n",
       "       [ 0.01679455, -0.3183368 ],\n",
       "       [ 0.01679455, -0.04658587],\n",
       "       [ 0.05496398, -0.35715836],\n",
       "       [ 0.05496398, -0.08540743],\n",
       "       [ 0.05496398,  0.34162973],\n",
       "       [ 0.05496398,  0.18634349],\n",
       "       [ 0.05496398,  0.22516505],\n",
       "       [ 0.05496398, -0.3183368 ],\n",
       "       [ 0.09313341, -0.00776431],\n",
       "       [ 0.09313341, -0.16305055],\n",
       "       [ 0.09313341, -0.27951524],\n",
       "       [ 0.09313341, -0.08540743],\n",
       "       [ 0.09313341,  0.06987881],\n",
       "       [ 0.09313341,  0.14752193],\n",
       "       [ 0.13130284, -0.3183368 ],\n",
       "       [ 0.13130284, -0.16305055],\n",
       "       [ 0.16947227, -0.08540743],\n",
       "       [ 0.16947227, -0.00776431],\n",
       "       [ 0.16947227, -0.27951524],\n",
       "       [ 0.16947227,  0.34162973],\n",
       "       [ 0.24581112, -0.27951524],\n",
       "       [ 0.24581112,  0.26398661],\n",
       "       [ 0.24581112,  0.22516505],\n",
       "       [ 0.24581112, -0.39597992],\n",
       "       [ 0.32214998,  0.30280817],\n",
       "       [ 0.32214998,  1.58391968],\n",
       "       [ 0.36031941, -0.82301709],\n",
       "       [ 0.36031941,  1.04041783],\n",
       "       [ 0.39848884, -0.59008772],\n",
       "       [ 0.39848884,  1.73920592],\n",
       "       [ 0.39848884, -1.52180518],\n",
       "       [ 0.39848884,  0.96277471],\n",
       "       [ 0.39848884, -1.5994483 ],\n",
       "       [ 0.39848884,  0.96277471],\n",
       "       [ 0.43665827, -0.62890928],\n",
       "       [ 0.43665827,  0.80748846],\n",
       "       [ 0.4748277 , -1.75473454],\n",
       "       [ 0.4748277 ,  1.46745499],\n",
       "       [ 0.4748277 , -1.67709142],\n",
       "       [ 0.4748277 ,  0.88513158],\n",
       "       [ 0.51299713, -1.56062674],\n",
       "       [ 0.51299713,  0.84631002],\n",
       "       [ 0.55116656, -1.75473454],\n",
       "       [ 0.55116656,  1.6615628 ],\n",
       "       [ 0.58933599, -0.39597992],\n",
       "       [ 0.58933599,  1.42863343],\n",
       "       [ 0.62750542, -1.48298362],\n",
       "       [ 0.62750542,  1.81684904],\n",
       "       [ 0.62750542, -0.55126616],\n",
       "       [ 0.62750542,  0.92395314],\n",
       "       [ 0.66567484, -1.09476801],\n",
       "       [ 0.66567484,  1.54509812],\n",
       "       [ 0.66567484, -1.28887582],\n",
       "       [ 0.66567484,  1.46745499],\n",
       "       [ 0.66567484, -1.17241113],\n",
       "       [ 0.66567484,  1.00159627],\n",
       "       [ 0.66567484, -1.32769738],\n",
       "       [ 0.66567484,  1.50627656],\n",
       "       [ 0.66567484, -1.91002079],\n",
       "       [ 0.66567484,  1.07923939],\n",
       "       [ 0.66567484, -1.91002079],\n",
       "       [ 0.66567484,  0.88513158],\n",
       "       [ 0.70384427, -0.59008772],\n",
       "       [ 0.70384427,  1.27334719],\n",
       "       [ 0.78018313, -1.75473454],\n",
       "       [ 0.78018313,  1.6615628 ],\n",
       "       [ 0.93286085, -0.93948177],\n",
       "       [ 0.93286085,  0.96277471],\n",
       "       [ 0.97103028, -1.17241113],\n",
       "       [ 0.97103028,  1.73920592],\n",
       "       [ 1.00919971, -0.90066021],\n",
       "       [ 1.00919971,  0.49691598],\n",
       "       [ 1.00919971, -1.44416206],\n",
       "       [ 1.00919971,  0.96277471],\n",
       "       [ 1.00919971, -1.56062674],\n",
       "       [ 1.00919971,  1.62274124],\n",
       "       [ 1.04736914, -1.44416206],\n",
       "       [ 1.04736914,  1.38981187],\n",
       "       [ 1.04736914, -1.36651894],\n",
       "       [ 1.04736914,  0.72984534],\n",
       "       [ 1.23821628, -1.4053405 ],\n",
       "       [ 1.23821628,  1.54509812],\n",
       "       [ 1.390894  , -0.7065524 ],\n",
       "       [ 1.390894  ,  1.38981187],\n",
       "       [ 1.42906343, -1.36651894],\n",
       "       [ 1.42906343,  1.46745499],\n",
       "       [ 1.46723286, -0.43480148],\n",
       "       [ 1.46723286,  1.81684904],\n",
       "       [ 1.54357172, -1.01712489],\n",
       "       [ 1.54357172,  0.69102378],\n",
       "       [ 1.61991057, -1.28887582],\n",
       "       [ 1.61991057,  1.35099031],\n",
       "       [ 1.61991057, -1.05594645],\n",
       "       [ 1.61991057,  0.72984534],\n",
       "       [ 2.00160487, -1.63826986],\n",
       "       [ 2.00160487,  1.58391968],\n",
       "       [ 2.26879087, -1.32769738],\n",
       "       [ 2.26879087,  1.11806095],\n",
       "       [ 2.49780745, -0.86183865],\n",
       "       [ 2.49780745,  0.92395314],\n",
       "       [ 2.91767117, -1.25005425],\n",
       "       [ 2.91767117,  1.27334719]])"
      ]
     },
     "execution_count": 90,
     "metadata": {},
     "output_type": "execute_result"
    }
   ],
   "source": [
    "x_scaled"
   ]
  },
  {
   "cell_type": "code",
   "execution_count": 91,
   "id": "22749692-a37d-4229-84d0-39b82e205e40",
   "metadata": {},
   "outputs": [],
   "source": [
    "x_scaled = pd.DataFrame(x_scaled,columns= mydata.columns[3:])"
   ]
  },
  {
   "cell_type": "markdown",
   "id": "5e786db6-2d26-4039-9af5-97efed8a9285",
   "metadata": {},
   "source": [
    "# Building Cluster basis K -Mean Approach"
   ]
  },
  {
   "cell_type": "code",
   "execution_count": 92,
   "id": "7c13fa09-02e9-4e69-86bc-2995dc42012e",
   "metadata": {},
   "outputs": [
    {
     "data": {
      "text/plain": [
       "37.664580844203314"
      ]
     },
     "execution_count": 92,
     "metadata": {},
     "output_type": "execute_result"
    }
   ],
   "source": [
    "from sklearn.cluster import KMeans\n",
    "km = KMeans()\n",
    "km.fit(x_scaled)\n",
    "km.inertia_"
   ]
  },
  {
   "cell_type": "code",
   "execution_count": 93,
   "id": "59df6456-ba9d-4b7c-b985-1e3916385928",
   "metadata": {},
   "outputs": [],
   "source": [
    "wss = []\n",
    "\n",
    "for i in range(2,15):\n",
    "    km = KMeans(n_clusters=i)\n",
    "    km.fit(x_scaled)\n",
    "    wss.append(km.inertia_)"
   ]
  },
  {
   "cell_type": "code",
   "execution_count": 94,
   "id": "19d6dd8d-b1f2-408b-a273-b09051624004",
   "metadata": {},
   "outputs": [
    {
     "data": {
      "text/plain": [
       "13"
      ]
     },
     "execution_count": 94,
     "metadata": {},
     "output_type": "execute_result"
    }
   ],
   "source": [
    "len(wss)"
   ]
  },
  {
   "cell_type": "code",
   "execution_count": 95,
   "id": "32d61316-8f4d-415a-b947-c13eee811832",
   "metadata": {},
   "outputs": [],
   "source": [
    "a = [1,2,3,4,5,6,7,8,9,10,11,12,13]"
   ]
  },
  {
   "cell_type": "code",
   "execution_count": 96,
   "id": "2fb01c75-415e-4a76-b511-4282500f8bae",
   "metadata": {},
   "outputs": [
    {
     "data": {
      "text/plain": [
       "<Axes: >"
      ]
     },
     "execution_count": 96,
     "metadata": {},
     "output_type": "execute_result"
    },
    {
     "data": {
      "image/png": "[encoded data removed]",
      "text/plain": [
       "<Figure size 640x480 with 1 Axes>"
      ]
     },
     "metadata": {},
     "output_type": "display_data"
    }
   ],
   "source": [
    "sns.pointplot(x=a, y=wss)"
   ]
  },
  {
   "cell_type": "code",
   "execution_count": 97,
   "id": "13c89ae5-aa67-4538-9774-f7e4aca11273",
   "metadata": {},
   "outputs": [
    {
     "data": {
      "text/plain": [
       "array([0, 2, 0, 2, 0, 2, 0, 2, 0, 2, 0, 2, 0, 2, 0, 2, 0, 2, 0, 2, 0, 2,\n",
       "       0, 2, 0, 2, 0, 2, 0, 2, 0, 2, 0, 2, 0, 2, 0, 2, 0, 2, 0, 2, 0, 0,\n",
       "       0, 2, 0, 0, 0, 0, 0, 0, 0, 0, 0, 0, 0, 0, 0, 0, 0, 0, 0, 0, 0, 0,\n",
       "       0, 0, 0, 0, 0, 0, 0, 0, 0, 0, 0, 0, 0, 0, 0, 0, 0, 0, 0, 0, 0, 0,\n",
       "       0, 0, 0, 0, 0, 0, 0, 0, 0, 0, 0, 0, 0, 0, 0, 0, 0, 0, 0, 0, 0, 0,\n",
       "       0, 0, 0, 0, 0, 0, 0, 0, 0, 0, 0, 0, 0, 1, 3, 1, 3, 1, 3, 1, 3, 1,\n",
       "       3, 1, 3, 1, 3, 1, 3, 1, 3, 1, 3, 1, 3, 1, 3, 1, 3, 1, 3, 1, 3, 1,\n",
       "       3, 1, 3, 1, 3, 1, 3, 1, 3, 1, 3, 1, 3, 1, 3, 1, 3, 1, 3, 1, 3, 1,\n",
       "       3, 1, 3, 1, 3, 1, 3, 1, 3, 1, 3, 1, 3, 1, 3, 1, 3, 1, 3, 1, 3, 1,\n",
       "       3, 1])"
      ]
     },
     "execution_count": 97,
     "metadata": {},
     "output_type": "execute_result"
    }
   ],
   "source": [
    "k_means = KMeans(n_clusters=4,random_state=1)\n",
    "k_means.fit(x_scaled)\n",
    "labels = k_means.labels_\n",
    "labels # each point they have assigned some clusters"
   ]
  },
  {
   "cell_type": "code",
   "execution_count": 98,
   "id": "bab26d8f-b334-4672-8751-fcf5775e301e",
   "metadata": {},
   "outputs": [
    {
     "data": {
      "text/plain": [
       "0.49434988482196784"
      ]
     },
     "execution_count": 98,
     "metadata": {},
     "output_type": "execute_result"
    }
   ],
   "source": [
    "from sklearn.metrics import silhouette_samples,silhouette_score\n",
    "silhouette_score(x_scaled,labels,random_state=1)"
   ]
  },
  {
   "cell_type": "code",
   "execution_count": 99,
   "id": "7d1ce615-3897-4291-9ab0-3055e7bcde81",
   "metadata": {},
   "outputs": [],
   "source": [
    "combined = pd.concat([mydata,pd.DataFrame(labels)],axis=1)"
   ]
  },
  {
   "cell_type": "code",
   "execution_count": 100,
   "id": "9d7a7b5b-2a76-4cb2-abcf-7d45ce002d4e",
   "metadata": {},
   "outputs": [
    {
     "data": {
      "text/html": [
       "<div>\n",
       "<style scoped>\n",
       "    .dataframe tbody tr th:only-of-type {\n",
       "        vertical-align: middle;\n",
       "    }\n",
       "\n",
       "    .dataframe tbody tr th {\n",
       "        vertical-align: top;\n",
       "    }\n",
       "\n",
       "    .dataframe thead th {\n",
       "        text-align: right;\n",
       "    }\n",
       "</style>\n",
       "<table border=\"1\" class=\"dataframe\">\n",
       "  <thead>\n",
       "    <tr style=\"text-align: right;\">\n",
       "      <th></th>\n",
       "      <th>CustomerID</th>\n",
       "      <th>Gender</th>\n",
       "      <th>Age</th>\n",
       "      <th>Annual Income (k$)</th>\n",
       "      <th>Spending Score (1-100)</th>\n",
       "      <th>0</th>\n",
       "    </tr>\n",
       "  </thead>\n",
       "  <tbody>\n",
       "    <tr>\n",
       "      <th>0</th>\n",
       "      <td>1</td>\n",
       "      <td>Male</td>\n",
       "      <td>19</td>\n",
       "      <td>15</td>\n",
       "      <td>39</td>\n",
       "      <td>0</td>\n",
       "    </tr>\n",
       "    <tr>\n",
       "      <th>1</th>\n",
       "      <td>2</td>\n",
       "      <td>Male</td>\n",
       "      <td>21</td>\n",
       "      <td>15</td>\n",
       "      <td>81</td>\n",
       "      <td>2</td>\n",
       "    </tr>\n",
       "    <tr>\n",
       "      <th>2</th>\n",
       "      <td>3</td>\n",
       "      <td>Female</td>\n",
       "      <td>20</td>\n",
       "      <td>16</td>\n",
       "      <td>6</td>\n",
       "      <td>0</td>\n",
       "    </tr>\n",
       "    <tr>\n",
       "      <th>3</th>\n",
       "      <td>4</td>\n",
       "      <td>Female</td>\n",
       "      <td>23</td>\n",
       "      <td>16</td>\n",
       "      <td>77</td>\n",
       "      <td>2</td>\n",
       "    </tr>\n",
       "    <tr>\n",
       "      <th>4</th>\n",
       "      <td>5</td>\n",
       "      <td>Female</td>\n",
       "      <td>31</td>\n",
       "      <td>17</td>\n",
       "      <td>40</td>\n",
       "      <td>0</td>\n",
       "    </tr>\n",
       "    <tr>\n",
       "      <th>...</th>\n",
       "      <td>...</td>\n",
       "      <td>...</td>\n",
       "      <td>...</td>\n",
       "      <td>...</td>\n",
       "      <td>...</td>\n",
       "      <td>...</td>\n",
       "    </tr>\n",
       "    <tr>\n",
       "      <th>195</th>\n",
       "      <td>196</td>\n",
       "      <td>Female</td>\n",
       "      <td>35</td>\n",
       "      <td>120</td>\n",
       "      <td>79</td>\n",
       "      <td>1</td>\n",
       "    </tr>\n",
       "    <tr>\n",
       "      <th>196</th>\n",
       "      <td>197</td>\n",
       "      <td>Female</td>\n",
       "      <td>45</td>\n",
       "      <td>126</td>\n",
       "      <td>28</td>\n",
       "      <td>3</td>\n",
       "    </tr>\n",
       "    <tr>\n",
       "      <th>197</th>\n",
       "      <td>198</td>\n",
       "      <td>Male</td>\n",
       "      <td>32</td>\n",
       "      <td>126</td>\n",
       "      <td>74</td>\n",
       "      <td>1</td>\n",
       "    </tr>\n",
       "    <tr>\n",
       "      <th>198</th>\n",
       "      <td>199</td>\n",
       "      <td>Male</td>\n",
       "      <td>32</td>\n",
       "      <td>137</td>\n",
       "      <td>18</td>\n",
       "      <td>3</td>\n",
       "    </tr>\n",
       "    <tr>\n",
       "      <th>199</th>\n",
       "      <td>200</td>\n",
       "      <td>Male</td>\n",
       "      <td>30</td>\n",
       "      <td>137</td>\n",
       "      <td>83</td>\n",
       "      <td>1</td>\n",
       "    </tr>\n",
       "  </tbody>\n",
       "</table>\n",
       "<p>200 rows × 6 columns</p>\n",
       "</div>"
      ],
      "text/plain": [
       "     CustomerID  Gender  Age  Annual Income (k$)  Spending Score (1-100)  0\n",
       "0             1    Male   19                  15                      39  0\n",
       "1             2    Male   21                  15                      81  2\n",
       "2             3  Female   20                  16                       6  0\n",
       "3             4  Female   23                  16                      77  2\n",
       "4             5  Female   31                  17                      40  0\n",
       "..          ...     ...  ...                 ...                     ... ..\n",
       "195         196  Female   35                 120                      79  1\n",
       "196         197  Female   45                 126                      28  3\n",
       "197         198    Male   32                 126                      74  1\n",
       "198         199    Male   32                 137                      18  3\n",
       "199         200    Male   30                 137                      83  1\n",
       "\n",
       "[200 rows x 6 columns]"
      ]
     },
     "execution_count": 100,
     "metadata": {},
     "output_type": "execute_result"
    }
   ],
   "source": [
    "combined"
   ]
  },
  {
   "cell_type": "code",
   "execution_count": 101,
   "id": "f3bcadeb-4ac9-421c-8236-f1edcadc89bb",
   "metadata": {},
   "outputs": [],
   "source": [
    "combined.to_csv(\"Output.csv\")"
   ]
  },
  {
   "cell_type": "code",
   "execution_count": 102,
   "id": "02ef9f63-da22-4b5a-a576-566113fad934",
   "metadata": {},
   "outputs": [
    {
     "data": {
      "text/plain": [
       "15"
      ]
     },
     "execution_count": 102,
     "metadata": {},
     "output_type": "execute_result"
    }
   ],
   "source": [
    "x[0,0]"
   ]
  },
  {
   "cell_type": "code",
   "execution_count": 103,
   "id": "43b95867-8288-4283-bf9b-0feb2ad6816f",
   "metadata": {},
   "outputs": [
    {
     "data": {
      "text/plain": [
       "array([39,  6, 40,  6,  3, 14, 15, 13, 35, 29, 35,  5, 14, 32, 31,  4,  4,\n",
       "       14, 17, 26, 35, 36, 61, 28, 55, 47, 42, 42, 52, 60, 54, 60, 45, 41,\n",
       "       50, 46, 51, 46, 56, 55, 52, 59, 51, 59, 50, 48, 59, 47, 55, 42, 49,\n",
       "       56, 47, 54, 53, 48, 52, 42, 51, 55, 41, 44, 57, 46, 58, 55, 60, 46,\n",
       "       55, 41, 49, 40, 42, 52, 47, 50, 42, 49, 41, 48, 59, 55, 56, 42, 50,\n",
       "       46, 43, 48, 52, 54, 42, 46, 48, 50, 43, 59, 43, 57, 56, 40, 58],\n",
       "      dtype=int64)"
      ]
     },
     "execution_count": 103,
     "metadata": {},
     "output_type": "execute_result"
    }
   ],
   "source": [
    "x[labels==0,1]"
   ]
  },
  {
   "cell_type": "code",
   "execution_count": 104,
   "id": "89231692-1295-4128-9631-29e8c0f91e6e",
   "metadata": {},
   "outputs": [
    {
     "data": {
      "text/plain": [
       "array([39,  6, 40,  6,  3, 14, 15, 13, 35, 29, 35,  5, 14, 32, 31,  4,  4,\n",
       "       14, 17, 26, 35, 36, 61, 28, 55, 47, 42, 42, 52, 60, 54, 60, 45, 41,\n",
       "       50, 46, 51, 46, 56, 55, 52, 59, 51, 59, 50, 48, 59, 47, 55, 42, 49,\n",
       "       56, 47, 54, 53, 48, 52, 42, 51, 55, 41, 44, 57, 46, 58, 55, 60, 46,\n",
       "       55, 41, 49, 40, 42, 52, 47, 50, 42, 49, 41, 48, 59, 55, 56, 42, 50,\n",
       "       46, 43, 48, 52, 54, 42, 46, 48, 50, 43, 59, 43, 57, 56, 40, 58],\n",
       "      dtype=int64)"
      ]
     },
     "execution_count": 104,
     "metadata": {},
     "output_type": "execute_result"
    }
   ],
   "source": [
    "x[labels==0,1]"
   ]
  },
  {
   "cell_type": "code",
   "execution_count": 105,
   "id": "98e43403-8f6d-4dad-94d4-386bd313b17f",
   "metadata": {},
   "outputs": [
    {
     "data": {
      "image/png": "[encoded data removed]",
      "text/plain": [
       "<Figure size 640x480 with 1 Axes>"
      ]
     },
     "metadata": {},
     "output_type": "display_data"
    }
   ],
   "source": [
    "plt.scatter(x[labels==0,0],x[labels==0,1],s=100,c='red',label='Cluster1') #0 is cluster and 0,1 is cluster\n",
    "plt.scatter(x[labels==1,0],x[labels==1,1],s=100,c='blue',label='Cluster2')\n",
    "plt.scatter(x[labels==2,0],x[labels==2,1],s=100,c='black',label='Cluster3')\n",
    "plt.scatter(x[labels==3,0],x[labels==3,1],s=100,c='green',label='Cluster4')\n",
    "plt.show()"
   ]
  },
  {
   "cell_type": "code",
   "execution_count": 84,
   "id": "74362ea9-f2ee-45b0-9a64-0b041cb89186",
   "metadata": {},
   "outputs": [],
   "source": [
    "#blue are very good customer\n",
    "\n",
    "#red is very pathetic customer income and spending score is lower so you can motivate them to reach\n",
    "#black area as churning out these customers is not good idea in business but you are not bother about them\n",
    "\n",
    "#green customer you can motivate them to purchase-so thay are the customers my marketing team can target as they have good income\n",
    "#have large income but not good spending score\n",
    "\n",
    "# black they are very frequent customer but there income  is very less but income is very less so for that users you can enhance the credit limit\n",
    "#then they will shift to blue ,we can provide them with emi options as they are paying back"
   ]
  },
  {
   "cell_type": "code",
   "execution_count": null,
   "id": "a2d6c910-4f03-467d-82a0-bb54ce1d02c6",
   "metadata": {},
   "outputs": [],
   "source": [
    "#If any body says go more deep dive then increase the cluster value"
   ]
  },
  {
   "cell_type": "code",
   "execution_count": null,
   "id": "80c1e34c-98d0-4e0c-bdcc-5aff4eeb512e",
   "metadata": {},
   "outputs": [],
   "source": [
    "# for more thn 3d data or features you have to export the data in excel and then you have to analyze it in excel"
   ]
  },
  {
   "cell_type": "markdown",
   "id": "4050427c-7bba-4362-bdc4-1d6a686b9563",
   "metadata": {},
   "source": [
    "# Hierarchial Cluster"
   ]
  },
  {
   "cell_type": "code",
   "execution_count": 108,
   "id": "175cda70-a68d-4622-a848-f25e4a301bea",
   "metadata": {},
   "outputs": [
    {
     "data": {
      "text/plain": [
       "array([[4.80000000e+01, 4.90000000e+01, 0.00000000e+00, 2.00000000e+00],\n",
       "       [6.50000000e+01, 6.80000000e+01, 0.00000000e+00, 2.00000000e+00],\n",
       "       [1.56000000e+02, 1.58000000e+02, 0.00000000e+00, 2.00000000e+00],\n",
       "       [1.29000000e+02, 1.31000000e+02, 0.00000000e+00, 2.00000000e+00],\n",
       "       [1.70000000e+02, 1.74000000e+02, 3.81694292e-02, 2.00000000e+00],\n",
       "       [6.30000000e+01, 2.01000000e+02, 3.81694292e-02, 3.00000000e+00],\n",
       "       [5.10000000e+01, 5.30000000e+01, 3.81694292e-02, 2.00000000e+00],\n",
       "       [1.01000000e+02, 1.09000000e+02, 3.81694292e-02, 2.00000000e+00],\n",
       "       [9.20000000e+01, 9.90000000e+01, 3.81694292e-02, 2.00000000e+00],\n",
       "       [9.80000000e+01, 1.05000000e+02, 3.81694292e-02, 2.00000000e+00],\n",
       "       [9.40000000e+01, 2.09000000e+02, 3.81694292e-02, 3.00000000e+00],\n",
       "       [1.07000000e+02, 1.13000000e+02, 3.81694292e-02, 2.00000000e+00],\n",
       "       [2.10000000e+01, 2.30000000e+01, 3.81694292e-02, 2.00000000e+00],\n",
       "       [1.50000000e+02, 1.54000000e+02, 3.88215607e-02, 2.00000000e+00],\n",
       "       [1.51000000e+02, 1.55000000e+02, 3.88215607e-02, 2.00000000e+00],\n",
       "       [6.00000000e+01, 6.10000000e+01, 3.88215607e-02, 2.00000000e+00],\n",
       "       [1.03000000e+02, 1.04000000e+02, 3.88215607e-02, 2.00000000e+00],\n",
       "       [1.19000000e+02, 1.20000000e+02, 3.88215607e-02, 2.00000000e+00],\n",
       "       [6.70000000e+01, 6.90000000e+01, 3.88215607e-02, 2.00000000e+00],\n",
       "       [6.40000000e+01, 6.60000000e+01, 3.88215607e-02, 2.00000000e+00],\n",
       "       [7.40000000e+01, 7.70000000e+01, 3.88215607e-02, 2.00000000e+00],\n",
       "       [8.50000000e+01, 2.20000000e+02, 3.88215607e-02, 3.00000000e+00],\n",
       "       [7.80000000e+01, 8.00000000e+01, 3.88215607e-02, 2.00000000e+00],\n",
       "       [7.60000000e+01, 2.22000000e+02, 3.88215607e-02, 3.00000000e+00],\n",
       "       [7.50000000e+01, 2.23000000e+02, 3.88215607e-02, 4.00000000e+00],\n",
       "       [9.70000000e+01, 2.08000000e+02, 3.88215607e-02, 3.00000000e+00],\n",
       "       [7.90000000e+01, 8.20000000e+01, 3.88215607e-02, 2.00000000e+00],\n",
       "       [8.10000000e+01, 2.24000000e+02, 3.88215607e-02, 5.00000000e+00],\n",
       "       [1.00000000e+02, 2.10000000e+02, 3.88215607e-02, 4.00000000e+00],\n",
       "       [1.49000000e+02, 2.14000000e+02, 3.88215607e-02, 3.00000000e+00],\n",
       "       [1.00000000e+01, 1.40000000e+01, 5.44428039e-02, 2.00000000e+00],\n",
       "       [2.60000000e+01, 2.80000000e+01, 5.44428039e-02, 2.00000000e+00],\n",
       "       [6.20000000e+01, 2.19000000e+02, 5.44428039e-02, 3.00000000e+00],\n",
       "       [5.80000000e+01, 2.32000000e+02, 5.44428039e-02, 4.00000000e+00],\n",
       "       [2.07000000e+02, 2.25000000e+02, 5.44428039e-02, 5.00000000e+00],\n",
       "       [4.00000000e+01, 4.20000000e+01, 5.44428039e-02, 2.00000000e+00],\n",
       "       [5.40000000e+01, 5.70000000e+01, 5.44428039e-02, 2.00000000e+00],\n",
       "       [1.11000000e+02, 2.16000000e+02, 5.44428039e-02, 3.00000000e+00],\n",
       "       [1.08000000e+02, 2.28000000e+02, 5.44428039e-02, 5.00000000e+00],\n",
       "       [9.10000000e+01, 2.38000000e+02, 5.44428039e-02, 6.00000000e+00],\n",
       "       [9.30000000e+01, 2.39000000e+02, 5.44428039e-02, 7.00000000e+00],\n",
       "       [1.12000000e+02, 1.16000000e+02, 5.44428039e-02, 2.00000000e+00],\n",
       "       [1.26000000e+02, 1.32000000e+02, 5.44428039e-02, 2.00000000e+00],\n",
       "       [1.20000000e+01, 2.30000000e+02, 5.44428039e-02, 3.00000000e+00],\n",
       "       [1.47000000e+02, 1.59000000e+02, 5.44428039e-02, 2.00000000e+00],\n",
       "       [2.40000000e+02, 2.41000000e+02, 5.44428039e-02, 9.00000000e+00],\n",
       "       [7.00000000e+01, 7.30000000e+01, 5.44428039e-02, 2.00000000e+00],\n",
       "       [1.37000000e+02, 1.39000000e+02, 5.44428039e-02, 2.00000000e+00],\n",
       "       [3.00000000e+00, 5.00000000e+00, 5.44428039e-02, 2.00000000e+00],\n",
       "       [5.90000000e+01, 2.36000000e+02, 7.63388583e-02, 3.00000000e+00],\n",
       "       [8.70000000e+01, 9.00000000e+01, 7.63388583e-02, 2.00000000e+00],\n",
       "       [1.18000000e+02, 2.45000000e+02, 7.63388583e-02, 1.00000000e+01],\n",
       "       [2.00000000e+00, 6.00000000e+00, 7.63388583e-02, 2.00000000e+00],\n",
       "       [1.65000000e+02, 1.71000000e+02, 7.63388583e-02, 2.00000000e+00],\n",
       "       [1.06000000e+02, 1.15000000e+02, 7.63388583e-02, 2.00000000e+00],\n",
       "       [1.14000000e+02, 2.34000000e+02, 7.63388583e-02, 6.00000000e+00],\n",
       "       [1.34000000e+02, 1.40000000e+02, 7.63388583e-02, 2.00000000e+00],\n",
       "       [8.40000000e+01, 2.27000000e+02, 7.76431214e-02, 6.00000000e+00],\n",
       "       [2.18000000e+02, 2.33000000e+02, 7.76431214e-02, 6.00000000e+00],\n",
       "       [8.30000000e+01, 2.21000000e+02, 7.76431214e-02, 4.00000000e+00],\n",
       "       [2.26000000e+02, 2.59000000e+02, 7.76431214e-02, 6.00000000e+00],\n",
       "       [1.10000000e+02, 2.37000000e+02, 7.76431214e-02, 4.00000000e+00],\n",
       "       [2.54000000e+02, 2.61000000e+02, 7.76431214e-02, 6.00000000e+00],\n",
       "       [2.55000000e+02, 2.62000000e+02, 7.76431214e-02, 1.20000000e+01],\n",
       "       [9.50000000e+01, 2.63000000e+02, 7.76431214e-02, 1.30000000e+01],\n",
       "       [9.60000000e+01, 2.64000000e+02, 7.76431214e-02, 1.40000000e+01],\n",
       "       [2.11000000e+02, 2.65000000e+02, 7.76431214e-02, 1.60000000e+01],\n",
       "       [1.30000000e+01, 1.50000000e+01, 7.76431214e-02, 2.00000000e+00],\n",
       "       [1.48000000e+02, 1.52000000e+02, 7.76431214e-02, 2.00000000e+00],\n",
       "       [1.28000000e+02, 1.30000000e+02, 7.76431214e-02, 2.00000000e+00],\n",
       "       [1.36000000e+02, 2.56000000e+02, 7.76431214e-02, 3.00000000e+00],\n",
       "       [1.76000000e+02, 2.04000000e+02, 7.76431214e-02, 3.00000000e+00],\n",
       "       [1.53000000e+02, 1.57000000e+02, 7.76431214e-02, 2.00000000e+00],\n",
       "       [2.49000000e+02, 2.58000000e+02, 8.56430667e-02, 9.00000000e+00],\n",
       "       [0.00000000e+00, 4.00000000e+00, 8.56430667e-02, 2.00000000e+00],\n",
       "       [5.60000000e+01, 2.73000000e+02, 8.56430667e-02, 1.00000000e+01],\n",
       "       [1.46000000e+02, 1.60000000e+02, 8.56430667e-02, 2.00000000e+00],\n",
       "       [1.64000000e+02, 1.68000000e+02, 8.56430667e-02, 2.00000000e+00],\n",
       "       [1.33000000e+02, 2.47000000e+02, 8.56430667e-02, 3.00000000e+00],\n",
       "       [1.87000000e+02, 1.91000000e+02, 8.56430667e-02, 2.00000000e+00],\n",
       "       [8.90000000e+01, 2.66000000e+02, 8.56430667e-02, 1.70000000e+01],\n",
       "       [1.22000000e+02, 2.17000000e+02, 8.56430667e-02, 3.00000000e+00],\n",
       "       [7.20000000e+01, 2.75000000e+02, 8.56430667e-02, 1.10000000e+01],\n",
       "       [1.86000000e+02, 1.90000000e+02, 8.56430667e-02, 2.00000000e+00],\n",
       "       [1.43000000e+02, 2.29000000e+02, 8.56430667e-02, 4.00000000e+00],\n",
       "       [2.44000000e+02, 2.72000000e+02, 8.65179729e-02, 4.00000000e+00],\n",
       "       [5.00000000e+01, 5.20000000e+01, 8.65179729e-02, 2.00000000e+00],\n",
       "       [8.60000000e+01, 8.80000000e+01, 8.65179729e-02, 2.00000000e+00],\n",
       "       [1.25000000e+02, 2.03000000e+02, 8.65179729e-02, 3.00000000e+00],\n",
       "       [1.81000000e+02, 1.83000000e+02, 8.65179729e-02, 2.00000000e+00],\n",
       "       [2.82000000e+02, 2.86000000e+02, 1.08885608e-01, 1.30000000e+01],\n",
       "       [3.80000000e+01, 4.40000000e+01, 1.08885608e-01, 2.00000000e+00],\n",
       "       [1.17000000e+02, 2.81000000e+02, 1.08885608e-01, 4.00000000e+00],\n",
       "       [2.69000000e+02, 2.70000000e+02, 1.08885608e-01, 5.00000000e+00],\n",
       "       [2.78000000e+02, 2.88000000e+02, 1.08885608e-01, 6.00000000e+00],\n",
       "       [1.60000000e+01, 2.00000000e+01, 1.14508288e-01, 2.00000000e+00],\n",
       "       [3.00000000e+01, 3.20000000e+01, 1.14508288e-01, 2.00000000e+00],\n",
       "       [2.15000000e+02, 2.46000000e+02, 1.14508288e-01, 4.00000000e+00],\n",
       "       [2.50000000e+02, 2.57000000e+02, 1.14508288e-01, 8.00000000e+00],\n",
       "       [2.80000000e+02, 2.98000000e+02, 1.14508288e-01, 2.50000000e+01],\n",
       "       [1.02000000e+02, 2.92000000e+02, 1.14508288e-01, 5.00000000e+00],\n",
       "       [2.87000000e+02, 2.99000000e+02, 1.16464682e-01, 2.70000000e+01],\n",
       "       [2.51000000e+02, 3.01000000e+02, 1.16464682e-01, 3.70000000e+01],\n",
       "       [2.60000000e+02, 3.02000000e+02, 1.16464682e-01, 4.30000000e+01],\n",
       "       [3.00000000e+02, 3.03000000e+02, 1.16464682e-01, 4.80000000e+01],\n",
       "       [1.21000000e+02, 3.04000000e+02, 1.16464682e-01, 4.90000000e+01],\n",
       "       [2.13000000e+02, 2.68000000e+02, 1.16464682e-01, 4.00000000e+00],\n",
       "       [1.72000000e+02, 2.71000000e+02, 1.16464682e-01, 4.00000000e+00],\n",
       "       [2.48000000e+02, 2.67000000e+02, 1.20910138e-01, 4.00000000e+00],\n",
       "       [2.90000000e+02, 2.97000000e+02, 1.20910138e-01, 1.70000000e+01],\n",
       "       [1.38000000e+02, 2.93000000e+02, 1.20910138e-01, 6.00000000e+00],\n",
       "       [4.30000000e+01, 2.06000000e+02, 1.20910138e-01, 3.00000000e+00],\n",
       "       [1.35000000e+02, 2.84000000e+02, 1.20910138e-01, 5.00000000e+00],\n",
       "       [5.50000000e+01, 2.00000000e+02, 1.20910138e-01, 3.00000000e+00],\n",
       "       [4.60000000e+01, 3.09000000e+02, 1.20910138e-01, 1.80000000e+01],\n",
       "       [1.67000000e+02, 1.73000000e+02, 1.22559894e-01, 2.00000000e+00],\n",
       "       [3.40000000e+01, 3.60000000e+01, 1.22559894e-01, 2.00000000e+00],\n",
       "       [2.05000000e+02, 3.14000000e+02, 1.22559894e-01, 2.10000000e+01],\n",
       "       [8.00000000e+00, 2.52000000e+02, 1.22559894e-01, 3.00000000e+00],\n",
       "       [3.70000000e+01, 3.90000000e+01, 1.38349565e-01, 2.00000000e+00],\n",
       "       [1.44000000e+02, 3.10000000e+02, 1.38349565e-01, 7.00000000e+00],\n",
       "       [2.85000000e+02, 2.94000000e+02, 1.38349565e-01, 1.00000000e+01],\n",
       "       [4.70000000e+01, 3.17000000e+02, 1.38349565e-01, 2.20000000e+01],\n",
       "       [3.10000000e+01, 3.19000000e+02, 1.52677717e-01, 3.00000000e+00],\n",
       "       [3.13000000e+02, 3.22000000e+02, 1.55286243e-01, 2.50000000e+01],\n",
       "       [4.50000000e+01, 3.11000000e+02, 1.55286243e-01, 4.00000000e+00],\n",
       "       [3.24000000e+02, 3.25000000e+02, 1.57536024e-01, 2.90000000e+01],\n",
       "       [3.05000000e+02, 3.26000000e+02, 1.57536024e-01, 7.80000000e+01],\n",
       "       [1.10000000e+01, 1.90000000e+01, 1.57536024e-01, 2.00000000e+00],\n",
       "       [1.42000000e+02, 2.76000000e+02, 1.59908482e-01, 3.00000000e+00],\n",
       "       [1.00000000e+00, 3.08000000e+02, 1.59908482e-01, 5.00000000e+00],\n",
       "       [3.06000000e+02, 3.20000000e+02, 1.59908482e-01, 1.10000000e+01],\n",
       "       [1.41000000e+02, 3.12000000e+02, 1.63328412e-01, 6.00000000e+00],\n",
       "       [1.63000000e+02, 3.32000000e+02, 1.63328412e-01, 7.00000000e+00],\n",
       "       [1.27000000e+02, 3.33000000e+02, 1.71286133e-01, 8.00000000e+00],\n",
       "       [9.00000000e+00, 3.30000000e+02, 1.73035946e-01, 6.00000000e+00],\n",
       "       [1.23000000e+02, 3.34000000e+02, 1.73035946e-01, 9.00000000e+00],\n",
       "       [1.45000000e+02, 3.36000000e+02, 1.73035946e-01, 1.00000000e+01],\n",
       "       [2.40000000e+01, 3.16000000e+02, 1.90847146e-01, 3.00000000e+00],\n",
       "       [3.30000000e+01, 4.10000000e+01, 1.90847146e-01, 2.00000000e+00],\n",
       "       [7.10000000e+01, 3.27000000e+02, 1.90847146e-01, 7.90000000e+01],\n",
       "       [2.12000000e+02, 3.23000000e+02, 1.90847146e-01, 5.00000000e+00],\n",
       "       [2.31000000e+02, 2.95000000e+02, 1.92027361e-01, 4.00000000e+00],\n",
       "       [1.61000000e+02, 3.37000000e+02, 1.92940315e-01, 1.10000000e+01],\n",
       "       [2.02000000e+02, 3.31000000e+02, 1.92940315e-01, 1.30000000e+01],\n",
       "       [1.62000000e+02, 3.44000000e+02, 1.92940315e-01, 1.40000000e+01],\n",
       "       [2.50000000e+01, 3.50000000e+01, 1.94755608e-01, 2.00000000e+00],\n",
       "       [3.35000000e+02, 3.41000000e+02, 1.94755608e-01, 1.10000000e+01],\n",
       "       [2.20000000e+01, 2.96000000e+02, 1.94755608e-01, 3.00000000e+00],\n",
       "       [1.78000000e+02, 3.07000000e+02, 1.94755608e-01, 5.00000000e+00],\n",
       "       [1.82000000e+02, 3.49000000e+02, 1.94755608e-01, 6.00000000e+00],\n",
       "       [2.90000000e+01, 3.46000000e+02, 1.97825036e-01, 3.00000000e+00],\n",
       "       [7.00000000e+00, 3.28000000e+02, 1.97825036e-01, 3.00000000e+00],\n",
       "       [3.21000000e+02, 3.43000000e+02, 1.97825036e-01, 2.10000000e+01],\n",
       "       [1.88000000e+02, 3.50000000e+02, 2.06036617e-01, 7.00000000e+00],\n",
       "       [3.15000000e+02, 3.53000000e+02, 2.06036617e-01, 2.30000000e+01],\n",
       "       [2.42000000e+02, 3.29000000e+02, 2.06036617e-01, 5.00000000e+00],\n",
       "       [1.79000000e+02, 2.89000000e+02, 2.06036617e-01, 3.00000000e+00],\n",
       "       [1.66000000e+02, 3.54000000e+02, 2.08579627e-01, 8.00000000e+00],\n",
       "       [1.24000000e+02, 3.56000000e+02, 2.08579627e-01, 6.00000000e+00],\n",
       "       [1.89000000e+02, 3.57000000e+02, 2.23576956e-01, 4.00000000e+00],\n",
       "       [1.80000000e+01, 3.42000000e+02, 2.23576956e-01, 5.00000000e+00],\n",
       "       [2.83000000e+02, 3.58000000e+02, 2.32929364e-01, 1.00000000e+01],\n",
       "       [2.35000000e+02, 3.40000000e+02, 2.36036002e-01, 8.10000000e+01],\n",
       "       [2.77000000e+02, 3.62000000e+02, 2.36036002e-01, 1.20000000e+01],\n",
       "       [1.77000000e+02, 2.53000000e+02, 2.36036002e-01, 3.00000000e+00],\n",
       "       [1.69000000e+02, 3.65000000e+02, 2.36036002e-01, 4.00000000e+00],\n",
       "       [1.75000000e+02, 3.55000000e+02, 2.36036002e-01, 2.40000000e+01],\n",
       "       [3.18000000e+02, 3.48000000e+02, 2.41820276e-01, 6.00000000e+00],\n",
       "       [3.60000000e+02, 3.67000000e+02, 2.41820276e-01, 2.80000000e+01],\n",
       "       [1.70000000e+01, 3.47000000e+02, 2.45119787e-01, 1.20000000e+01],\n",
       "       [2.74000000e+02, 3.61000000e+02, 2.46958143e-01, 7.00000000e+00],\n",
       "       [3.59000000e+02, 3.63000000e+02, 2.46958143e-01, 8.70000000e+01],\n",
       "       [3.39000000e+02, 3.51000000e+02, 2.46958143e-01, 5.00000000e+00],\n",
       "       [3.66000000e+02, 3.69000000e+02, 2.69991619e-01, 3.20000000e+01],\n",
       "       [2.91000000e+02, 3.72000000e+02, 2.74418422e-01, 8.90000000e+01],\n",
       "       [3.70000000e+02, 3.73000000e+02, 2.78507763e-01, 1.70000000e+01],\n",
       "       [2.43000000e+02, 3.68000000e+02, 2.82269705e-01, 9.00000000e+00],\n",
       "       [1.80000000e+02, 1.84000000e+02, 2.82269705e-01, 2.00000000e+00],\n",
       "       [3.45000000e+02, 3.64000000e+02, 3.00210644e-01, 2.60000000e+01],\n",
       "       [1.95000000e+02, 1.97000000e+02, 3.00210644e-01, 2.00000000e+00],\n",
       "       [3.38000000e+02, 3.77000000e+02, 3.07813343e-01, 1.20000000e+01],\n",
       "       [2.70000000e+01, 3.76000000e+02, 3.30251723e-01, 1.80000000e+01],\n",
       "       [3.78000000e+02, 3.79000000e+02, 3.46071891e-01, 2.80000000e+01],\n",
       "       [1.85000000e+02, 3.74000000e+02, 3.51472766e-01, 3.30000000e+01],\n",
       "       [3.71000000e+02, 3.75000000e+02, 3.61828385e-01, 9.60000000e+01],\n",
       "       [3.82000000e+02, 3.85000000e+02, 3.64524213e-01, 1.14000000e+02],\n",
       "       [3.81000000e+02, 3.86000000e+02, 3.67679681e-01, 1.26000000e+02],\n",
       "       [3.83000000e+02, 3.87000000e+02, 4.08767056e-01, 1.54000000e+02],\n",
       "       [1.92000000e+02, 1.94000000e+02, 4.09687234e-01, 2.00000000e+00],\n",
       "       [3.52000000e+02, 3.88000000e+02, 4.47153912e-01, 1.57000000e+02],\n",
       "       [1.93000000e+02, 3.84000000e+02, 4.47153912e-01, 3.40000000e+01],\n",
       "       [2.79000000e+02, 3.91000000e+02, 4.97718910e-01, 3.60000000e+01],\n",
       "       [3.89000000e+02, 3.90000000e+02, 5.17461817e-01, 1.59000000e+02],\n",
       "       [3.92000000e+02, 3.93000000e+02, 5.17507819e-01, 1.95000000e+02],\n",
       "       [1.96000000e+02, 3.94000000e+02, 5.19107837e-01, 1.96000000e+02],\n",
       "       [3.80000000e+02, 3.95000000e+02, 5.37040702e-01, 1.98000000e+02],\n",
       "       [1.99000000e+02, 3.96000000e+02, 5.46224994e-01, 1.99000000e+02],\n",
       "       [1.98000000e+02, 3.97000000e+02, 5.71836429e-01, 2.00000000e+02]])"
      ]
     },
     "execution_count": 108,
     "metadata": {},
     "output_type": "execute_result"
    }
   ],
   "source": [
    "from scipy.cluster.hierarchy import dendrogram, linkage\n",
    "link_method = linkage(x_scaled)\n",
    "link_method"
   ]
  },
  {
   "cell_type": "code",
   "execution_count": 110,
   "id": "04f7c055-16cd-4d96-8865-b551bb4ba559",
   "metadata": {},
   "outputs": [
    {
     "data": {
      "image/png": "[encoded data removed]",
      "text/plain": [
       "<Figure size 640x480 with 1 Axes>"
      ]
     },
     "metadata": {},
     "output_type": "display_data"
    }
   ],
   "source": [
    "dend = dendrogram(link_method,p=10)"
   ]
  },
  {
   "cell_type": "code",
   "execution_count": 118,
   "id": "00f64f4f-9a11-4f13-8a10-4fe3f7c9bdcf",
   "metadata": {},
   "outputs": [
    {
     "name": "stdout",
     "output_type": "stream",
     "text": [
      "[2 2 2 2 2 2 2 2 2 2 2 2 2 2 2 2 2 2 2 2 2 2 2 2 2 2 2 2 2 2 2 2 2 2 2 2 2\n",
      " 2 2 2 2 2 2 2 2 2 2 2 2 2 2 2 2 2 2 2 2 2 2 2 2 2 2 2 2 2 2 2 2 2 2 2 2 2\n",
      " 2 2 2 2 2 2 2 2 2 2 2 2 2 2 2 2 2 2 2 2 2 2 2 2 2 2 2 2 2 2 2 2 2 2 2 2 2\n",
      " 2 2 2 2 2 2 2 2 2 2 2 2 2 2 2 2 2 2 2 2 2 2 2 2 2 2 2 2 2 2 2 2 2 2 2 2 2\n",
      " 2 2 2 2 2 2 2 2 2 2 2 2 2 2 2 2 2 2 2 2 2 2 2 2 2 2 2 2 2 2 2 2 2 2 2 2 2\n",
      " 2 2 2 2 2 2 2 2 2 2 1 3 1 5 4]\n"
     ]
    }
   ],
   "source": [
    "from scipy.cluster.hierarchy import fcluster\n",
    "\n",
    "# Generate flat clusters\n",
    "clusters = fcluster(link_method, 5, criterion='maxclust')\n",
    "print(clusters)"
   ]
  },
  {
   "cell_type": "code",
   "execution_count": 119,
   "id": "ecbf16d2-c416-4480-8665-f83a9318be81",
   "metadata": {},
   "outputs": [],
   "source": [
    "mydata['clusters']=clusters"
   ]
  },
  {
   "cell_type": "code",
   "execution_count": 120,
   "id": "bdc5122e-1414-4559-b75d-767ff043df54",
   "metadata": {},
   "outputs": [
    {
     "data": {
      "text/html": [
       "<div>\n",
       "<style scoped>\n",
       "    .dataframe tbody tr th:only-of-type {\n",
       "        vertical-align: middle;\n",
       "    }\n",
       "\n",
       "    .dataframe tbody tr th {\n",
       "        vertical-align: top;\n",
       "    }\n",
       "\n",
       "    .dataframe thead th {\n",
       "        text-align: right;\n",
       "    }\n",
       "</style>\n",
       "<table border=\"1\" class=\"dataframe\">\n",
       "  <thead>\n",
       "    <tr style=\"text-align: right;\">\n",
       "      <th></th>\n",
       "      <th>CustomerID</th>\n",
       "      <th>Gender</th>\n",
       "      <th>Age</th>\n",
       "      <th>Annual Income (k$)</th>\n",
       "      <th>Spending Score (1-100)</th>\n",
       "      <th>clusters</th>\n",
       "    </tr>\n",
       "  </thead>\n",
       "  <tbody>\n",
       "    <tr>\n",
       "      <th>0</th>\n",
       "      <td>1</td>\n",
       "      <td>Male</td>\n",
       "      <td>19</td>\n",
       "      <td>15</td>\n",
       "      <td>39</td>\n",
       "      <td>2</td>\n",
       "    </tr>\n",
       "    <tr>\n",
       "      <th>1</th>\n",
       "      <td>2</td>\n",
       "      <td>Male</td>\n",
       "      <td>21</td>\n",
       "      <td>15</td>\n",
       "      <td>81</td>\n",
       "      <td>2</td>\n",
       "    </tr>\n",
       "    <tr>\n",
       "      <th>2</th>\n",
       "      <td>3</td>\n",
       "      <td>Female</td>\n",
       "      <td>20</td>\n",
       "      <td>16</td>\n",
       "      <td>6</td>\n",
       "      <td>2</td>\n",
       "    </tr>\n",
       "    <tr>\n",
       "      <th>3</th>\n",
       "      <td>4</td>\n",
       "      <td>Female</td>\n",
       "      <td>23</td>\n",
       "      <td>16</td>\n",
       "      <td>77</td>\n",
       "      <td>2</td>\n",
       "    </tr>\n",
       "    <tr>\n",
       "      <th>4</th>\n",
       "      <td>5</td>\n",
       "      <td>Female</td>\n",
       "      <td>31</td>\n",
       "      <td>17</td>\n",
       "      <td>40</td>\n",
       "      <td>2</td>\n",
       "    </tr>\n",
       "    <tr>\n",
       "      <th>...</th>\n",
       "      <td>...</td>\n",
       "      <td>...</td>\n",
       "      <td>...</td>\n",
       "      <td>...</td>\n",
       "      <td>...</td>\n",
       "      <td>...</td>\n",
       "    </tr>\n",
       "    <tr>\n",
       "      <th>195</th>\n",
       "      <td>196</td>\n",
       "      <td>Female</td>\n",
       "      <td>35</td>\n",
       "      <td>120</td>\n",
       "      <td>79</td>\n",
       "      <td>1</td>\n",
       "    </tr>\n",
       "    <tr>\n",
       "      <th>196</th>\n",
       "      <td>197</td>\n",
       "      <td>Female</td>\n",
       "      <td>45</td>\n",
       "      <td>126</td>\n",
       "      <td>28</td>\n",
       "      <td>3</td>\n",
       "    </tr>\n",
       "    <tr>\n",
       "      <th>197</th>\n",
       "      <td>198</td>\n",
       "      <td>Male</td>\n",
       "      <td>32</td>\n",
       "      <td>126</td>\n",
       "      <td>74</td>\n",
       "      <td>1</td>\n",
       "    </tr>\n",
       "    <tr>\n",
       "      <th>198</th>\n",
       "      <td>199</td>\n",
       "      <td>Male</td>\n",
       "      <td>32</td>\n",
       "      <td>137</td>\n",
       "      <td>18</td>\n",
       "      <td>5</td>\n",
       "    </tr>\n",
       "    <tr>\n",
       "      <th>199</th>\n",
       "      <td>200</td>\n",
       "      <td>Male</td>\n",
       "      <td>30</td>\n",
       "      <td>137</td>\n",
       "      <td>83</td>\n",
       "      <td>4</td>\n",
       "    </tr>\n",
       "  </tbody>\n",
       "</table>\n",
       "<p>200 rows × 6 columns</p>\n",
       "</div>"
      ],
      "text/plain": [
       "     CustomerID  Gender  Age  Annual Income (k$)  Spending Score (1-100)  \\\n",
       "0             1    Male   19                  15                      39   \n",
       "1             2    Male   21                  15                      81   \n",
       "2             3  Female   20                  16                       6   \n",
       "3             4  Female   23                  16                      77   \n",
       "4             5  Female   31                  17                      40   \n",
       "..          ...     ...  ...                 ...                     ...   \n",
       "195         196  Female   35                 120                      79   \n",
       "196         197  Female   45                 126                      28   \n",
       "197         198    Male   32                 126                      74   \n",
       "198         199    Male   32                 137                      18   \n",
       "199         200    Male   30                 137                      83   \n",
       "\n",
       "     clusters  \n",
       "0           2  \n",
       "1           2  \n",
       "2           2  \n",
       "3           2  \n",
       "4           2  \n",
       "..        ...  \n",
       "195         1  \n",
       "196         3  \n",
       "197         1  \n",
       "198         5  \n",
       "199         4  \n",
       "\n",
       "[200 rows x 6 columns]"
      ]
     },
     "execution_count": 120,
     "metadata": {},
     "output_type": "execute_result"
    }
   ],
   "source": [
    "mydata"
   ]
  },
  {
   "cell_type": "code",
   "execution_count": null,
   "id": "1077dd4c-3e78-49fc-bdc9-bdea49b609e7",
   "metadata": {},
   "outputs": [],
   "source": []
  }
 ],
 "metadata": {
  "kernelspec": {
   "display_name": "Python 3 (ipykernel)",
   "language": "python",
   "name": "python3"
  },
  "language_info": {
   "codemirror_mode": {
    "name": "ipython",
    "version": 3
   },
   "file_extension": ".py",
   "mimetype": "text/x-python",
   "name": "python",
   "nbconvert_exporter": "python",
   "pygments_lexer": "ipython3",
   "version": "3.12.4"
  }
 },
 "nbformat": 4,
 "nbformat_minor": 5
}
